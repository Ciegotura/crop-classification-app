{
 "cells": [
  {
   "cell_type": "code",
   "execution_count": 3,
   "id": "7c187928",
   "metadata": {
    "ExecuteTime": {
     "end_time": "2024-04-30T12:36:45.683741Z",
     "start_time": "2024-04-30T12:36:40.088947Z"
    }
   },
   "outputs": [],
   "source": [
    "import ee\n",
    "ee.Authenticate()\n",
    "ee.Initialize()\n",
    "import geemap\n",
    "geemap.ee_initialize()"
   ]
  },
  {
   "cell_type": "code",
   "execution_count": 4,
   "id": "359798a8",
   "metadata": {},
   "outputs": [
    {
     "data": {
      "text/html": [
       "\n",
       "            <style>\n",
       "                .geemap-dark {\n",
       "                    --jp-widgets-color: white;\n",
       "                    --jp-widgets-label-color: white;\n",
       "                    --jp-ui-font-color1: white;\n",
       "                    --jp-layout-color2: #454545;\n",
       "                    background-color: #383838;\n",
       "                }\n",
       "\n",
       "                .geemap-dark .jupyter-button {\n",
       "                    --jp-layout-color3: #383838;\n",
       "                }\n",
       "\n",
       "                .geemap-colab {\n",
       "                    background-color: var(--colab-primary-surface-color, white);\n",
       "                }\n",
       "\n",
       "                .geemap-colab .jupyter-button {\n",
       "                    --jp-layout-color3: var(--colab-primary-surface-color, white);\n",
       "                }\n",
       "            </style>\n",
       "            "
      ],
      "text/plain": [
       "<IPython.core.display.HTML object>"
      ]
     },
     "metadata": {},
     "output_type": "display_data"
    }
   ],
   "source": [
    "#import libs\n",
    "from datetime import datetime, timedelta\n",
    "import matplotlib.pyplot as plt\n",
    "import pandas as pd"
   ]
  },
  {
   "cell_type": "code",
   "execution_count": 6,
   "id": "898d4f53",
   "metadata": {
    "ExecuteTime": {
     "end_time": "2024-04-30T12:36:48.298082Z",
     "start_time": "2024-04-30T12:36:46.830902Z"
    }
   },
   "outputs": [
    {
     "data": {
      "text/html": [
       "\n",
       "            <style>\n",
       "                .geemap-dark {\n",
       "                    --jp-widgets-color: white;\n",
       "                    --jp-widgets-label-color: white;\n",
       "                    --jp-ui-font-color1: white;\n",
       "                    --jp-layout-color2: #454545;\n",
       "                    background-color: #383838;\n",
       "                }\n",
       "\n",
       "                .geemap-dark .jupyter-button {\n",
       "                    --jp-layout-color3: #383838;\n",
       "                }\n",
       "\n",
       "                .geemap-colab {\n",
       "                    background-color: var(--colab-primary-surface-color, white);\n",
       "                }\n",
       "\n",
       "                .geemap-colab .jupyter-button {\n",
       "                    --jp-layout-color3: var(--colab-primary-surface-color, white);\n",
       "                }\n",
       "            </style>\n",
       "            "
      ],
      "text/plain": [
       "<IPython.core.display.HTML object>"
      ]
     },
     "metadata": {},
     "output_type": "display_data"
    }
   ],
   "source": [
    "#loads functions\n",
    "def prepare_map(cords, train=False):\n",
    "    \"\"\"\n",
    "    This function, generates base map\n",
    "    \"\"\"\n",
    "    Map = geemap.Map(center=cords, zoom=14)\n",
    "    Map.add_basemap(\"SATELLITE\")\n",
    "    if train:\n",
    "        region = ee.Geometry.BBox(18.23, 52.663, 18.32, 52.709)\n",
    "    else:\n",
    "        region = ee.Geometry.BBox(cords[1]-0.05, cords[0]-0.03, cords[1]+0.05, cords[0]+0.03)\n",
    "    fc = ee.FeatureCollection(region)\n",
    "    style = {'color': 'ffff00ff', 'fillColor': '00000000'}\n",
    "    Map.addLayer(fc.style(**style), {}, 'polygon')\n",
    "\n",
    "    return Map\n",
    "\n",
    "def generate_past_dates(start_date_str):\n",
    "    start_date = datetime.strptime(start_date_str, \"%Y-%m-%d\")\n",
    "\n",
    "    dates = []\n",
    "    \n",
    "    for _ in range(10):\n",
    "        dates.append(start_date.strftime(\"%Y-%m-%d\"))\n",
    "        start_date -= timedelta(days=10)\n",
    "    \n",
    "    return dates\n",
    "\n",
    "def select_classification_region_map(cords, train=False, sentinel_start='2024-06-30', sentinel_stop='2024-07-01', sar_start='2024-06-30', sar_stop='2024-07-01', optical=False, cloudy_pixel_precentage=100):\n",
    "    if train:\n",
    "        region = ee.Geometry.BBox(18.23, 52.663, 18.32, 52.709)\n",
    "    else:\n",
    "        region = ee.Geometry.BBox(cords[1]-0.05, cords[0]-0.03, cords[1]+0.05, cords[0]+0.03)\n",
    "        #region = ee.Geometry.BBox(cords[1]-3, cords[0]-2, cords[1]+3, cords[0]+2)\n",
    "\n",
    "    #loads data:\n",
    "    if optical:\n",
    "        collection = (\n",
    "        ee.ImageCollection('COPERNICUS/S2_SR')\n",
    "        .filterDate(sentinel_start, sentinel_stop)\n",
    "        .filter(ee.Filter.lt('CLOUDY_PIXEL_PERCENTAGE', cloudy_pixel_precentage))\n",
    "        )\n",
    "        try:\n",
    "            size = collection.size().getInfo()\n",
    "        except:\n",
    "            raise ValueError(\"Image collection is empty\")\n",
    "        B1 = collection.select('B1')\n",
    "        B2 = collection.select('B2')\n",
    "        B3 = collection.select('B3')\n",
    "        B4 = collection.select('B4')\n",
    "        B5 = collection.select('B5')\n",
    "        B6 = collection.select('B6')\n",
    "        B7 = collection.select('B7')\n",
    "        B8 = collection.select('B8')\n",
    "        B9 = collection.select('B9')\n",
    "        B8A = collection.select('B8A')\n",
    "        B11 = collection.select('B11')\n",
    "        B12 = collection.select('B12')\n",
    "\n",
    "        B1 = ee.Image(B1.median())\n",
    "        B2 = ee.Image(B2.median())\n",
    "        B3 = ee.Image(B3.median())\n",
    "        B4 = ee.Image(B4.median())\n",
    "        B5 = ee.Image(B5.median())\n",
    "        B6 = ee.Image(B6.median())\n",
    "        B7 = ee.Image(B7.median())\n",
    "        B8 = ee.Image(B8.median())\n",
    "        B9 = ee.Image(B9.median())\n",
    "        B8A = ee.Image(B8A.median())\n",
    "        B11 = ee.Image(B11.median())\n",
    "        B12 = ee.Image(B12.median())\n",
    "\n",
    "    dates = generate_past_dates(sar_stop)\n",
    "    collection = ee.ImageCollection('COPERNICUS/S1_GRD') \\\n",
    "        .filter(ee.Filter.listContains('transmitterReceiverPolarisation', 'VV')) \\\n",
    "        .filter(ee.Filter.listContains('transmitterReceiverPolarisation', 'VH')) \\\n",
    "        .filter(ee.Filter.eq('instrumentMode', 'IW')) \\\n",
    "        .filterBounds(region) \\\n",
    "        .filterDate(dates[9], dates[0])\n",
    "    VH = collection.select('VH')\n",
    "    VH9 = ee.Image(VH.filterDate(dates[9], dates[8]).median()).unitScale(-50, 1).multiply(3000)\n",
    "    VH8 = ee.Image(VH.filterDate(dates[8], dates[7]).median()).unitScale(-50, 1).multiply(3000)\n",
    "    VH7 = ee.Image(VH.filterDate(dates[7], dates[6]).median()).unitScale(-50, 1).multiply(3000)\n",
    "    VH6 = ee.Image(VH.filterDate(dates[6], dates[5]).median()).unitScale(-50, 1).multiply(3000)\n",
    "    VH5 = ee.Image(VH.filterDate(dates[5], dates[4]).median()).unitScale(-50, 1).multiply(3000)\n",
    "    VH4 = ee.Image(VH.filterDate(dates[4], dates[3]).median()).unitScale(-50, 1).multiply(3000)\n",
    "    VH3 = ee.Image(VH.filterDate(dates[3], dates[2]).median()).unitScale(-50, 1).multiply(3000)\n",
    "    VH2 = ee.Image(VH.filterDate(dates[2], dates[1]).median()).unitScale(-50, 1).multiply(3000)\n",
    "    VH1 = ee.Image(VH.filterDate(dates[1], dates[0]).median()).unitScale(-50, 1).multiply(3000)\n",
    "    VV = collection.select('VV')\n",
    "    VV9 = ee.Image(VV.filterDate(dates[9], dates[8]).median()).unitScale(-50, 1).multiply(3000)\n",
    "    VV8 = ee.Image(VV.filterDate(dates[8], dates[7]).median()).unitScale(-50, 1).multiply(3000)\n",
    "    VV7 = ee.Image(VV.filterDate(dates[7], dates[6]).median()).unitScale(-50, 1).multiply(3000)\n",
    "    VV6 = ee.Image(VV.filterDate(dates[6], dates[5]).median()).unitScale(-50, 1).multiply(3000)\n",
    "    VV5 = ee.Image(VV.filterDate(dates[5], dates[4]).median()).unitScale(-50, 1).multiply(3000)\n",
    "    VV4 = ee.Image(VV.filterDate(dates[4], dates[3]).median()).unitScale(-50, 1).multiply(3000)\n",
    "    VV3 = ee.Image(VV.filterDate(dates[3], dates[2]).median()).unitScale(-50, 1).multiply(3000)\n",
    "    VV2 = ee.Image(VV.filterDate(dates[2], dates[1]).median()).unitScale(-50, 1).multiply(3000)\n",
    "    VV1 = ee.Image(VV.filterDate(dates[1], dates[0]).median()).unitScale(-50, 1).multiply(3000)\n",
    "\n",
    "    if optical:\n",
    "        image = VV1.addBands([VV2, VV3, VV4, VV5, VV6, VV7, VV8, VV9, VH1, VH2, VH3, VH4, VH5, VH6, VH7, VH8, VH9, B1, B2, B3, B4, B5, B6, B7, B8, B9, B8A, B11, B12])\n",
    "        image = image.rename(['VV1', 'VV2', 'VV3', 'VV4', 'VV5', 'VV6', 'VV7', 'VV8', 'VV9', 'VH1', 'VH2', 'VH3', 'VH4', 'VH5', 'VH6', 'VH7', 'VH8','VH9', 'B1' ,'B2' ,'B3' ,'B4' ,'B5' ,'B6' ,'B7' ,'B8' ,'B8A' ,'B9' ,'B11' ,'B12'])\n",
    "    else:\n",
    "        image = VV1.addBands([VV2, VV3, VV4, VV5, VV6, VV7, VV8, VV9, VH1, VH2, VH3, VH4, VH5, VH6, VH7, VH8, VH9])\n",
    "        image = image.rename(['VV1', 'VV2', 'VV3', 'VV4', 'VV5', 'VV6', 'VV7', 'VV8', 'VV9', 'VH1', 'VH2', 'VH3', 'VH4', 'VH5', 'VH6', 'VH7', 'VH8','VH9'])\n",
    "    image = image.clip(region)\n",
    "\n",
    "    return image, region\n",
    "\n",
    "def prepare_data_to_classification(image, region):\n",
    "    landcover = ee.ImageCollection('ESA/WorldCover/v200')\n",
    "    landcover_region_clipped = landcover.map(lambda image: image.clip(region))\n",
    "    landcover_region_clipped = landcover_region_clipped.first()\n",
    "    mask_cropland = landcover_region_clipped.select('Map').eq(40)\n",
    "    fields = image.updateMask(mask_cropland)\n",
    "\n",
    "    return fields, mask_cropland\n",
    "\n",
    "def load_train_data():\n",
    "\n",
    "    crops_shp = \"crops.shp\"\n",
    "    crops = geemap.shp_to_ee(crops_shp)\n",
    "    crops_raster = crops.reduceToImage(properties=['crop_id'], reducer=ee.Reducer.first())\n",
    "    vis_params = {\n",
    "        'min': 0,\n",
    "        'max': 26,\n",
    "        'palette': [\n",
    "            'fc2a85ff', '445d07ff', 'f4a21fff', 'b3573bff', '260d22ff', 'b81448',\n",
    "            'd17501ff', '4354ccff', '3f49dbff', 'f7d97bff', '3c2db7ff', '57f011ff',\n",
    "            '#E9967A', '#228B22', '#FF8C00', '#8A2BE2', '#8B4513', '933b86ff',\n",
    "            '7c3efeff', '3673ddff', '63e972ff', '29b7dcff', 'cd2d19ff', '#FFD700',\n",
    "            'a211deff', '732876ff', '3a5c4dff'\n",
    "        ]\n",
    "    }\n",
    "\n",
    "    return crops_raster, vis_params\n",
    "\n",
    "def make_training_points(crops_raster, mask_cropland):\n",
    "\n",
    "    points = crops_raster.sample(\n",
    "    **{\n",
    "        \"region\": mask_cropland.geometry(),\n",
    "        \"scale\": 30,\n",
    "        \"numPixels\": 10000,\n",
    "        \"seed\": 0,\n",
    "        \"geometries\": True,\n",
    "    }\n",
    ")\n",
    "    return points\n",
    "\n",
    "def prepare_classifier(fields, points, optical):\n",
    "    if optical:\n",
    "        bands = ['VV1', 'VV2', 'VV3', 'VV4', 'VV5', 'VV6', 'VV7', 'VV8', 'VV9', 'VH1', 'VH2', 'VH3', 'VH4', 'VH5', 'VH6', 'VH7', 'VH8','VH9', 'B1' ,'B2' ,'B3' ,'B4' ,'B5' ,'B6' ,'B7' ,'B8' ,'B8A' ,'B9' ,'B11' ,'B12']\n",
    "    else:    \n",
    "        bands = ['VV1', 'VV2', 'VV3', 'VV4', 'VV5', 'VV6', 'VV7', 'VV8', 'VV9', 'VH1', 'VH2', 'VH3', 'VH4', 'VH5', 'VH6', 'VH7', 'VH8','VH9']\n",
    "    label = \"first\"\n",
    "    training = fields.select(bands).sampleRegions(\n",
    "        **{\"collection\": points, \"properties\": [label], \"scale\": 30}\n",
    "    )\n",
    "    trained = ee.Classifier.smileRandomForest(60).train(training, label, bands)\n",
    "\n",
    "    return trained, bands\n",
    "\n",
    "def display_classificated_map(Map, fields, bands, trained, vis_params, year='2024'):\n",
    "    result = fields.select(bands).classify(trained)\n",
    "    Map.addLayer(result, vis_params, f'crop {year}')\n",
    "\n",
    "    return Map, result\n",
    "\n",
    "def classify_crop_by_id(fields, bands, trained, crop_id):\n",
    "    result = fields.select(bands).classify(trained)\n",
    "    result=result.select('classification').eq(crop_id)\n",
    "\n",
    "    return result\n",
    "\n",
    "def classify_crops(fields, bands, trained):\n",
    "    result = fields.select(bands).classify(trained)\n",
    "\n",
    "    return result\n",
    "\n",
    "def train(optical=False):\n",
    "    Map = prepare_map([52.68, 18.28], train=True)\n",
    "    image, region = select_classification_region_map([52.68, 18.28], train=True, optical=optical)\n",
    "    fields, mask_cropland = prepare_data_to_classification(image, region)\n",
    "    raster_upraw, vis_params = load_train_data()\n",
    "    points = make_training_points(raster_upraw, mask_cropland)\n",
    "    trained, bands = prepare_classifier(fields, points, optical=optical)\n",
    "\n",
    "    return trained, bands, vis_params\n",
    "\n",
    "def add_legend_to_map(Map):\n",
    "    legend_dict = {\n",
    "        'Rye': 'fc2a85', \n",
    "        'Rapeseed': '445d07',\n",
    "        'Winter wheat': 'f4a21f',\n",
    "        'Sugar beet': 'b3573b',\n",
    "        'Corn': '260d22',\n",
    "        'Spring barley': 'b81448',\n",
    "        'Potatoes': 'd17501',\n",
    "        'Spring onion': '4354cc',\n",
    "        'Soil': '3f49db',\n",
    "        'Broccoli': 'f7d97b', \n",
    "        'Oats': '3c2db7', \n",
    "        'Winter onion': '57f011', \n",
    "        'Garlic': 'E9967A',  \n",
    "        'Trees': '228B22',  \n",
    "        'Pumpkin': 'FF8C00',  \n",
    "        'Phacelia': '8A2BE2',  \n",
    "        'Beans': '8B4513', \n",
    "        'Peas': '933b86',  \n",
    "        'Green peas': '7c3efe',  \n",
    "        'Winter barley': '3673dd',  \n",
    "        'Dill': '63e972',  \n",
    "        'Alfalfa': '29b7dc', \n",
    "        'Parsley': 'cd2d19', \n",
    "        'Rye with barley': 'FFD700',  \n",
    "        'Celery': 'a211de', \n",
    "        'Soy': '732876', \n",
    "        'Grass': '3a5c4d',  \n",
    "    }\n",
    "    Map.add_legend(title=\"Classified Crops:\", legend_dict=legend_dict, position=\"bottomright\")\n",
    "    Map.addLayerControl()\n",
    "\n",
    "    return Map\n",
    "\n",
    "def generate_lighter_colors(hex_color, steps=10):\n",
    "    \"\"\"Generaes color list\"\"\"\n",
    "    hex_color = hex_color.lstrip('#')\n",
    "    if len(hex_color) == 3:\n",
    "        hex_color = ''.join([c*2 for c in hex_color])\n",
    "    \n",
    "    rgb_color = tuple(int(hex_color[i:i+2], 16) for i in (0, 2, 4))\n",
    "\n",
    "    def lighten_color(rgb_color, percentage):\n",
    "        return tuple(min(255, int(c + (255 - c) * percentage / 100)) for c in rgb_color)\n",
    "\n",
    "    def rgb_to_hex(rgb_color):\n",
    "        return '#' + ''.join(f'{int(c):02x}' for c in rgb_color)\n",
    "\n",
    "    colors = [rgb_to_hex(rgb_color)]\n",
    "    for i in range(1, steps + 1):\n",
    "        lightened_rgb = lighten_color(rgb_color, i * 10)\n",
    "        colors.insert(0, rgb_to_hex(lightened_rgb))\n",
    "\n",
    "    return colors\n",
    "\n",
    "def generate_legend(Map, colors, title = 'Crop occurrence:'):\n",
    "    legend = {index: color for index, color in enumerate(colors)}\n",
    "    Map.add_legend(title=title, legend_dict=legend, position=\"bottomright\")\n",
    "    Map.addLayerControl()\n",
    "    \n",
    "    return Map\n",
    "\n",
    "def generate_index_legend(Map, colors, title = 'Crop occurrence:'):\n",
    "    legend = {round((1-(index/10)), 2): color for index, color in enumerate(colors)}\n",
    "    Map.add_legend(title=title, legend_dict=legend, position=\"bottomright\")\n",
    "    Map.addLayerControl()\n",
    "    \n",
    "    return Map\n",
    "\n",
    "def generate_crop_histogram(result, region):\n",
    "    legend_dict = {\n",
    "        '1': 'Rapeseed',\n",
    "        '2': 'Winter wheat',\n",
    "        '3': 'Sugar beet',\n",
    "        '4': 'Corn',\n",
    "        '5': 'Spring barley',\n",
    "        '6': 'Potatoes',\n",
    "        '7': 'Spring onion',\n",
    "        '8': 'Soil',\n",
    "        '9': 'Broccoli', \n",
    "        '10': 'Oats', \n",
    "        '11': 'Winter onion', \n",
    "        '12': 'Garlic',  \n",
    "        '13': 'Trees',  \n",
    "        '14': 'Pumpkin',  \n",
    "        '15': 'Phacelia',  \n",
    "        '16': 'Beans', \n",
    "        '17': 'Peas',  \n",
    "        '18': 'Green peas',  \n",
    "        '19': 'Winter barley',  \n",
    "        '20': 'Dill',  \n",
    "        '21': 'Alfalfa', \n",
    "        '22': 'Parsley', \n",
    "        '23': 'Rye with barley',  \n",
    "        '24': 'Celery', \n",
    "        '25': 'Soy', \n",
    "        '26': 'Grass',  \n",
    "        '27': 'Rye',\n",
    "    }\n",
    "    unique_values = result.reduceRegion(\n",
    "        reducer=ee.Reducer.frequencyHistogram(), \n",
    "        geometry=region, \n",
    "        scale=5\n",
    "    ).getInfo()\n",
    "    unique_values = unique_values['classification']\n",
    "    unique_values = {key: value*0.0025 for key, value in unique_values.items()}\n",
    "    value_to_crop = {int(k): legend_dict.get(k, f'Unknown ({k})') for k in unique_values.keys()}\n",
    "\n",
    "    crop_value = dict()\n",
    "    for key, crop in unique_values.items():\n",
    "        crop_value[value_to_crop[int(key)]] = crop\n",
    "\n",
    "    \n",
    "    return crop_value\n",
    "\n",
    "def generate_plot(plots):\n",
    "    legend_dict = {\n",
    "        'Rapeseed': '#445d07',\n",
    "        'Winter wheat': '#f4a21f',\n",
    "        'Sugar beet': '#b3573b',\n",
    "        'Corn': '#260d22',\n",
    "        'Spring barley': '#b81448',\n",
    "        'Potatoes': '#d17501',\n",
    "        'Spring onion': '#4354cc',\n",
    "        'Soil': '#3f49db',\n",
    "        'Broccoli': '#f7d97b', \n",
    "        'Oats': '#3c2db7', \n",
    "        'Winter onion': '#57f011', \n",
    "        'Garlic': '#E9967A',  \n",
    "        'Pumpkin': '#FF8C00',  \n",
    "        'Phacelia': '#8A2BE2',  \n",
    "        'Beans': '#8B4513', \n",
    "        'Peas': '#933b86',  \n",
    "        'Green peas': '#7c3efe',  \n",
    "        'Winter barley': '#3673dd',  \n",
    "        'Dill': '#63e972',  \n",
    "        'Alfalfa': '#29b7dc', \n",
    "        'Parsley': '#cd2d19', \n",
    "        'Rye with barley': '#FFD700',  \n",
    "        'Celery': '#a211de', \n",
    "        'Soy': '#732876', \n",
    "        'Grass': '#3a5c4d',  \n",
    "        'Rye': '#fc2a85', \n",
    "    }\n",
    "    df = pd.DataFrame(plots)\n",
    "    df = df.fillna(0)\n",
    "    df = df.T\n",
    "    plt.figure(figsize=(14, 8))\n",
    "    for crop in df.columns:\n",
    "        color = legend_dict.get(crop, '#000000')\n",
    "        plt.plot(df.index, df[crop], label=crop, color=color)\n",
    "    plt.xlabel('Year')\n",
    "    plt.ylabel('Value [ha]')\n",
    "    plt.title('Crop Area Over Time (2015-2024)')\n",
    "    plt.legend(loc='upper left', bbox_to_anchor=(1, 1), ncol=2)\n",
    "    plt.grid(True)\n",
    "    plt.xticks(rotation=45)\n",
    "    plt.tight_layout()\n",
    "    return plt.show()"
   ]
  },
  {
   "cell_type": "code",
   "execution_count": 7,
   "id": "198fda84",
   "metadata": {
    "ExecuteTime": {
     "end_time": "2024-04-30T12:01:24.047739Z",
     "start_time": "2024-04-30T12:01:23.846386Z"
    }
   },
   "outputs": [
    {
     "data": {
      "text/html": [
       "\n",
       "            <style>\n",
       "                .geemap-dark {\n",
       "                    --jp-widgets-color: white;\n",
       "                    --jp-widgets-label-color: white;\n",
       "                    --jp-ui-font-color1: white;\n",
       "                    --jp-layout-color2: #454545;\n",
       "                    background-color: #383838;\n",
       "                }\n",
       "\n",
       "                .geemap-dark .jupyter-button {\n",
       "                    --jp-layout-color3: #383838;\n",
       "                }\n",
       "\n",
       "                .geemap-colab {\n",
       "                    background-color: var(--colab-primary-surface-color, white);\n",
       "                }\n",
       "\n",
       "                .geemap-colab .jupyter-button {\n",
       "                    --jp-layout-color3: var(--colab-primary-surface-color, white);\n",
       "                }\n",
       "            </style>\n",
       "            "
      ],
      "text/plain": [
       "<IPython.core.display.HTML object>"
      ]
     },
     "metadata": {},
     "output_type": "display_data"
    }
   ],
   "source": [
    "#loads classification functions\n",
    "def classify(cords, generate_crop_plot = False, start_date='2024-06-30', stop_date='2024-07-01', cloudy_pixel_precentage=100):\n",
    "    Map = prepare_map(cords)\n",
    "    #lower layer sar\n",
    "    trained, bands, vis_params = train()\n",
    "    dates = [\n",
    "        ['2015-07-01', '2015-07-05'],\n",
    "        ['2016-06-25', '2016-06-30'],\n",
    "        ['2017-06-20', '2017-06-25'],\n",
    "        ['2018-06-20', '2018-06-25'], \n",
    "        ['2019-07-05', '2019-07-10'], \n",
    "        ['2020-07-01', '2020-07-05'],\n",
    "        ['2021-07-15', '2021-07-20'],\n",
    "        ['2022-07-01', '2022-07-05'], \n",
    "        ['2023-07-07', '2023-07-10']\n",
    "    ]\n",
    "    if generate_crop_plot:\n",
    "        plots = dict()\n",
    "    for date in dates:\n",
    "        image, region = select_classification_region_map(cords, sar_start=date[0], sar_stop=date[1])\n",
    "        fields, _ = prepare_data_to_classification(image, region)\n",
    "        Map, result= display_classificated_map(Map, fields, bands, trained, vis_params, date[0][:4])\n",
    "        if generate_crop_plot:\n",
    "            plots[date[0][:4]]=(generate_crop_histogram(result, region))\n",
    "    #upper layer, sar+optical\n",
    "    trained, bands, vis_params = train(optical=True)\n",
    "    image, region = select_classification_region_map(cords, sentinel_start=start_date, sentinel_stop=stop_date, optical=True, cloudy_pixel_precentage=cloudy_pixel_precentage)\n",
    "    fields, _ = prepare_data_to_classification(image, region)\n",
    "    Map, result = display_classificated_map(Map, fields, bands, trained, vis_params, '2024')\n",
    "    if generate_crop_plot:\n",
    "        plots['2024']=(generate_crop_histogram(result, region))\n",
    "    Map = add_legend_to_map(Map)\n",
    "    if generate_crop_plot:\n",
    "        return Map, plots\n",
    "    else:\n",
    "        return Map\n",
    "\n",
    "def classify_crop(cords, crop_key, color, start_date='2024-06-30', stop_date='2024-07-01', cloudy_pixel_precentage=100):\n",
    "    crops = { \n",
    "        'Rapeseed': 1,\n",
    "        'Winter wheat': 2,\n",
    "        'Sugar beet': 3,\n",
    "        'Corn': 4,\n",
    "        'Spring barley': 5,\n",
    "        'Potatoes': 6,\n",
    "        'Spring onion': 7,\n",
    "        'Soil': 8,\n",
    "        'Broccoli': 9, \n",
    "        'Oats': 10, \n",
    "        'Winter onion': 11, \n",
    "        'Garlic': 12,  \n",
    "        'Trees': 13,  \n",
    "        'Pumpkin': 14,  \n",
    "        'Phacelia': 15,  \n",
    "        'Beans': 16, \n",
    "        'Peas': 17,  \n",
    "        'Green peas': 18,  \n",
    "        'Winter barley': 19,  \n",
    "        'Dill': 20,  \n",
    "        'Alfalfa': 21, \n",
    "        'Parsley': 22, \n",
    "        'Rye with barley': 23,  \n",
    "        'Celery': 24, \n",
    "        'Soy': 25, \n",
    "        'Grass': 26,  \n",
    "        'Rye': 27 \n",
    "    }\n",
    "    crop_id = crops.get(crop_key)\n",
    "    Map = prepare_map(cords)\n",
    "    #upper layer, sar+optical\n",
    "    trained, bands, vis_params = train(optical=True)\n",
    "    image, region = select_classification_region_map(cords, optical=True, sentinel_start=start_date, sentinel_stop=stop_date, cloudy_pixel_precentage=cloudy_pixel_precentage)\n",
    "    fields, _ = prepare_data_to_classification(image, region)\n",
    "    result = classify_crop_by_id(fields, bands, trained, crop_id)\n",
    "    #lower layer sar\n",
    "    trained, bands, vis_params = train()\n",
    "    date_list = [\n",
    "        ['2015-07-01', '2015-07-05'],\n",
    "        ['2016-06-25', '2016-06-30'],\n",
    "        ['2017-06-20', '2017-06-25'],\n",
    "        ['2018-06-20', '2018-06-25'], \n",
    "        ['2019-07-05', '2019-07-10'], \n",
    "        ['2020-07-01', '2020-07-05'],\n",
    "        ['2021-07-15', '2021-07-20'],\n",
    "        ['2022-07-01', '2022-07-05'], \n",
    "        ['2023-07-07', '2023-07-10']\n",
    "    ]\n",
    "    for date in date_list:\n",
    "        image, region = select_classification_region_map(cords, sar_start=date[0], sar_stop=date[1])\n",
    "        fields, _ = prepare_data_to_classification(image, region)\n",
    "        result = result.add(classify_crop_by_id(fields, bands, trained, crop_id))\n",
    "    colors = generate_lighter_colors(color)\n",
    "    vis_params = {\n",
    "        'min': 0,\n",
    "        'max': 10,\n",
    "        'palette': colors\n",
    "    }\n",
    "    Map.addLayer(result, vis_params, \"result\")\n",
    "    generate_legend(Map, colors)\n",
    "    return Map\n",
    "\n",
    "def crop_index(cords, color, start_date='2024-06-30', stop_date='2024-07-01', cloudy_pixel_precentage=100):\n",
    "    Map = prepare_map(cords)\n",
    "    #upper layer, sar+optical\n",
    "    trained, bands, vis_params = train(optical=True)\n",
    "    image, region = select_classification_region_map(cords, optical=True, sentinel_start=start_date, sentinel_stop=stop_date, cloudy_pixel_precentage=cloudy_pixel_precentage)\n",
    "    fields, crop_mask = prepare_data_to_classification(image, region)\n",
    "    result_1 = classify_crops(fields, bands, trained)\n",
    "    classification_band = result_1.select('classification')\n",
    "    result = classification_band.multiply(0)\n",
    "\n",
    "    #lower layer sar\n",
    "    trained, bands, vis_params = train()\n",
    "    date_list = [\n",
    "        ['2023-07-07', '2023-07-10'],\n",
    "        ['2022-07-01', '2022-07-05'], \n",
    "        ['2021-07-15', '2021-07-20'],\n",
    "        ['2020-07-01', '2020-07-05'],\n",
    "        ['2019-07-05', '2019-07-10'], \n",
    "        ['2018-06-20', '2018-06-25'],  \n",
    "        ['2017-06-20', '2017-06-25'], \n",
    "        ['2016-06-25', '2016-06-30'],\n",
    "        ['2015-07-01', '2015-07-05']\n",
    "    ]\n",
    "    for date in date_list:\n",
    "        image, region = select_classification_region_map(cords, sar_start=date[0], sar_stop=date[1])\n",
    "        fields, _ = prepare_data_to_classification(image, region)\n",
    "        result_2 = classify_crops(fields, bands, trained)\n",
    "        result_diff = result_1.neq(result_2)\n",
    "        result = result.add(result_diff)\n",
    "        result_1 = result_2\n",
    "    colors = generate_lighter_colors(color, 9)\n",
    "    vis_params = {\n",
    "        'min': 0.1,\n",
    "        'max': 1,\n",
    "        'palette': colors\n",
    "    }\n",
    "    result = result.add(1)\n",
    "    result = result.divide(10)\n",
    "    Map.addLayer(result, vis_params, \"monoculture index\")\n",
    "    generate_index_legend(Map, colors, 'monoculture index:')\n",
    "    return Map\n",
    "\n",
    "def accurency(start_date='2024-06-30', stop_date='2024-07-01', cloudy_pixel_precentage=100):\n",
    "    Map = prepare_map([52.68, 18.28], train=True)\n",
    "    image, region = select_classification_region_map([52.68, 18.28], train=True, optical=True, sentinel_start=start_date, sentinel_stop=stop_date, cloudy_pixel_precentage=cloudy_pixel_precentage)\n",
    "    pola, mask_cropland = prepare_data_to_classification(image, region)\n",
    "    crops_raster, vis_params = load_train_data()\n",
    "    Map.addLayer(crops_raster, vis_params, \"crops_raster\")\n",
    "    points = make_training_points(crops_raster, mask_cropland)\n",
    "    Map.addLayer(points, {}, \"points\", False)\n",
    "    trained, bands = prepare_classifier(pola, points, optical=True)\n",
    "    result = pola.select(bands).classify(trained) #tu pola, możesz zmieniać zdjęcie i będzie inny wynik\n",
    "\n",
    "    crops_raster_mask = crops_raster.mask().gt(0)\n",
    "    result_masked = result.updateMask(crops_raster_mask)\n",
    "    Map.addLayer(result_masked, vis_params, \"classified\")\n",
    "\n",
    "    first = crops_raster.select('first')\n",
    "    clasification = result_masked.select('classification')\n",
    "    image = first.addBands([clasification])\n",
    "\n",
    "    # Create a mask where the values in both bands are equal\n",
    "    equal_mask = first.eq(clasification)\n",
    "\n",
    "    Map.addLayer(equal_mask, {}, \"accurency\")\n",
    "    \n",
    "    hist = geemap.image_histogram(\n",
    "        equal_mask,\n",
    "        region,\n",
    "        scale=30,\n",
    "        x_label='Classes',\n",
    "        y_label='Pixel count',\n",
    "        title='Classification accurency',\n",
    "        layout_args={'title': dict(x=0.5)},\n",
    "        return_df=False,\n",
    "    )\n",
    "    return Map, hist"
   ]
  },
  {
   "cell_type": "code",
   "execution_count": 8,
   "id": "e8855175",
   "metadata": {
    "ExecuteTime": {
     "end_time": "2024-04-30T12:01:39.838518Z",
     "start_time": "2024-04-30T12:01:39.446031Z"
    }
   },
   "outputs": [
    {
     "data": {
      "text/html": [
       "\n",
       "            <style>\n",
       "                .geemap-dark {\n",
       "                    --jp-widgets-color: white;\n",
       "                    --jp-widgets-label-color: white;\n",
       "                    --jp-ui-font-color1: white;\n",
       "                    --jp-layout-color2: #454545;\n",
       "                    background-color: #383838;\n",
       "                }\n",
       "\n",
       "                .geemap-dark .jupyter-button {\n",
       "                    --jp-layout-color3: #383838;\n",
       "                }\n",
       "\n",
       "                .geemap-colab {\n",
       "                    background-color: var(--colab-primary-surface-color, white);\n",
       "                }\n",
       "\n",
       "                .geemap-colab .jupyter-button {\n",
       "                    --jp-layout-color3: var(--colab-primary-surface-color, white);\n",
       "                }\n",
       "            </style>\n",
       "            "
      ],
      "text/plain": [
       "<IPython.core.display.HTML object>"
      ]
     },
     "metadata": {},
     "output_type": "display_data"
    },
    {
     "data": {
      "application/vnd.jupyter.widget-view+json": {
       "model_id": "a74a4ba02efd4c86a91d4014e07ae218",
       "version_major": 2,
       "version_minor": 0
      },
      "text/plain": [
       "Map(center=[52.68, 18.28], controls=(WidgetControl(options=['position', 'transparent_bg'], widget=SearchDataGU…"
      ]
     },
     "execution_count": 8,
     "metadata": {},
     "output_type": "execute_result"
    }
   ],
   "source": [
    "#classify \n",
    "classify([52.68, 18.28])"
   ]
  },
  {
   "cell_type": "code",
   "execution_count": 8,
   "id": "56c27bbf",
   "metadata": {
    "ExecuteTime": {
     "end_time": "2024-04-30T12:01:42.507291Z",
     "start_time": "2024-04-30T12:01:42.146833Z"
    }
   },
   "outputs": [
    {
     "data": {
      "text/html": [
       "\n",
       "            <style>\n",
       "                .geemap-dark {\n",
       "                    --jp-widgets-color: white;\n",
       "                    --jp-widgets-label-color: white;\n",
       "                    --jp-ui-font-color1: white;\n",
       "                    --jp-layout-color2: #454545;\n",
       "                    background-color: #383838;\n",
       "                }\n",
       "\n",
       "                .geemap-dark .jupyter-button {\n",
       "                    --jp-layout-color3: #383838;\n",
       "                }\n",
       "\n",
       "                .geemap-colab {\n",
       "                    background-color: var(--colab-primary-surface-color, white);\n",
       "                }\n",
       "\n",
       "                .geemap-colab .jupyter-button {\n",
       "                    --jp-layout-color3: var(--colab-primary-surface-color, white);\n",
       "                }\n",
       "            </style>\n",
       "            "
      ],
      "text/plain": [
       "<IPython.core.display.HTML object>"
      ]
     },
     "metadata": {},
     "output_type": "display_data"
    }
   ],
   "source": [
    "#generates map and crops plot\n",
    "Map, crop_plot = classify([52.68, 18.28], True)"
   ]
  },
  {
   "cell_type": "code",
   "execution_count": 12,
   "id": "97ee32d9",
   "metadata": {
    "ExecuteTime": {
     "end_time": "2024-04-30T12:01:44.044217Z",
     "start_time": "2024-04-30T12:01:44.039456Z"
    }
   },
   "outputs": [
    {
     "data": {
      "text/html": [
       "\n",
       "            <style>\n",
       "                .geemap-dark {\n",
       "                    --jp-widgets-color: white;\n",
       "                    --jp-widgets-label-color: white;\n",
       "                    --jp-ui-font-color1: white;\n",
       "                    --jp-layout-color2: #454545;\n",
       "                    background-color: #383838;\n",
       "                }\n",
       "\n",
       "                .geemap-dark .jupyter-button {\n",
       "                    --jp-layout-color3: #383838;\n",
       "                }\n",
       "\n",
       "                .geemap-colab {\n",
       "                    background-color: var(--colab-primary-surface-color, white);\n",
       "                }\n",
       "\n",
       "                .geemap-colab .jupyter-button {\n",
       "                    --jp-layout-color3: var(--colab-primary-surface-color, white);\n",
       "                }\n",
       "            </style>\n",
       "            "
      ],
      "text/plain": [
       "<IPython.core.display.HTML object>"
      ]
     },
     "metadata": {},
     "output_type": "display_data"
    },
    {
     "data": {
      "image/png": "[encoded data removed]",
      "text/plain": [
       "<Figure size 1400x800 with 1 Axes>"
      ]
     },
     "metadata": {},
     "output_type": "display_data"
    }
   ],
   "source": [
    "generate_plot(crop_plot)"
   ]
  },
  {
   "cell_type": "code",
   "execution_count": 10,
   "id": "36220245",
   "metadata": {
    "ExecuteTime": {
     "end_time": "2024-04-30T12:01:52.740764Z",
     "start_time": "2024-04-30T12:01:51.673831Z"
    }
   },
   "outputs": [
    {
     "data": {
      "text/html": [
       "\n",
       "            <style>\n",
       "                .geemap-dark {\n",
       "                    --jp-widgets-color: white;\n",
       "                    --jp-widgets-label-color: white;\n",
       "                    --jp-ui-font-color1: white;\n",
       "                    --jp-layout-color2: #454545;\n",
       "                    background-color: #383838;\n",
       "                }\n",
       "\n",
       "                .geemap-dark .jupyter-button {\n",
       "                    --jp-layout-color3: #383838;\n",
       "                }\n",
       "\n",
       "                .geemap-colab {\n",
       "                    background-color: var(--colab-primary-surface-color, white);\n",
       "                }\n",
       "\n",
       "                .geemap-colab .jupyter-button {\n",
       "                    --jp-layout-color3: var(--colab-primary-surface-color, white);\n",
       "                }\n",
       "            </style>\n",
       "            "
      ],
      "text/plain": [
       "<IPython.core.display.HTML object>"
      ]
     },
     "metadata": {},
     "output_type": "display_data"
    },
    {
     "data": {
      "application/vnd.jupyter.widget-view+json": {
       "model_id": "fafba15d530347dbbe8ffa924b215dad",
       "version_major": 2,
       "version_minor": 0
      },
      "text/plain": [
       "Map(center=[52.68, 18.28], controls=(WidgetControl(options=['position', 'transparent_bg'], widget=SearchDataGU…"
      ]
     },
     "execution_count": 10,
     "metadata": {},
     "output_type": "execute_result"
    }
   ],
   "source": [
    "Map, hist = accurency()\n",
    "Map"
   ]
  },
  {
   "cell_type": "code",
   "execution_count": 11,
   "id": "25cf1fa6",
   "metadata": {
    "ExecuteTime": {
     "end_time": "2024-04-30T12:02:06.255010Z",
     "start_time": "2024-04-30T12:02:04.839067Z"
    }
   },
   "outputs": [
    {
     "data": {
      "text/html": [
       "\n",
       "            <style>\n",
       "                .geemap-dark {\n",
       "                    --jp-widgets-color: white;\n",
       "                    --jp-widgets-label-color: white;\n",
       "                    --jp-ui-font-color1: white;\n",
       "                    --jp-layout-color2: #454545;\n",
       "                    background-color: #383838;\n",
       "                }\n",
       "\n",
       "                .geemap-dark .jupyter-button {\n",
       "                    --jp-layout-color3: #383838;\n",
       "                }\n",
       "\n",
       "                .geemap-colab {\n",
       "                    background-color: var(--colab-primary-surface-color, white);\n",
       "                }\n",
       "\n",
       "                .geemap-colab .jupyter-button {\n",
       "                    --jp-layout-color3: var(--colab-primary-surface-color, white);\n",
       "                }\n",
       "            </style>\n",
       "            "
      ],
      "text/plain": [
       "<IPython.core.display.HTML object>"
      ]
     },
     "metadata": {},
     "output_type": "display_data"
    },
    {
     "data": {
      "application/vnd.plotly.v1+json": {
       "config": {
        "plotlyServerURL": "https://plot.ly"
       },
       "data": [
        {
         "alignmentgroup": "True",
         "hovertemplate": "Classes=%{x}<br>Pixel count=%{y}<extra></extra>",
         "legendgroup": "",
         "marker": {
          "color": "#636efa",
          "pattern": {
           "shape": ""
          }
         },
         "name": "",
         "offsetgroup": "",
         "orientation": "v",
         "showlegend": false,
         "textposition": "auto",
         "type": "bar",
         "x": [
          "0",
          "1"
         ],
         "xaxis": "x",
         "y": [
          2591,
          20856
         ],
         "yaxis": "y"
        }
       ],
       "layout": {
        "barmode": "relative",
        "height": 500,
        "legend": {
         "tracegroupgap": 0
        },
        "template": {
         "data": {
          "bar": [
           {
            "error_x": {
             "color": "#2a3f5f"
            },
            "error_y": {
             "color": "#2a3f5f"
            },
            "marker": {
             "line": {
              "color": "#E5ECF6",
              "width": 0.5
             },
             "pattern": {
              "fillmode": "overlay",
              "size": 10,
              "solidity": 0.2
             }
            },
            "type": "bar"
           }
          ],
          "barpolar": [
           {
            "marker": {
             "line": {
              "color": "#E5ECF6",
              "width": 0.5
             },
             "pattern": {
              "fillmode": "overlay",
              "size": 10,
              "solidity": 0.2
             }
            },
            "type": "barpolar"
           }
          ],
          "carpet": [
           {
            "aaxis": {
             "endlinecolor": "#2a3f5f",
             "gridcolor": "white",
             "linecolor": "white",
             "minorgridcolor": "white",
             "startlinecolor": "#2a3f5f"
            },
            "baxis": {
             "endlinecolor": "#2a3f5f",
             "gridcolor": "white",
             "linecolor": "white",
             "minorgridcolor": "white",
             "startlinecolor": "#2a3f5f"
            },
            "type": "carpet"
           }
          ],
          "choropleth": [
           {
            "colorbar": {
             "outlinewidth": 0,
             "ticks": ""
            },
            "type": "choropleth"
           }
          ],
          "contour": [
           {
            "colorbar": {
             "outlinewidth": 0,
             "ticks": ""
            },
            "colorscale": [
             [
              0,
              "#0d0887"
             ],
             [
              0.1111111111111111,
              "#46039f"
             ],
             [
              0.2222222222222222,
              "#7201a8"
             ],
             [
              0.3333333333333333,
              "#9c179e"
             ],
             [
              0.4444444444444444,
              "#bd3786"
             ],
             [
              0.5555555555555556,
              "#d8576b"
             ],
             [
              0.6666666666666666,
              "#ed7953"
             ],
             [
              0.7777777777777778,
              "#fb9f3a"
             ],
             [
              0.8888888888888888,
              "#fdca26"
             ],
             [
              1,
              "#f0f921"
             ]
            ],
            "type": "contour"
           }
          ],
          "contourcarpet": [
           {
            "colorbar": {
             "outlinewidth": 0,
             "ticks": ""
            },
            "type": "contourcarpet"
           }
          ],
          "heatmap": [
           {
            "colorbar": {
             "outlinewidth": 0,
             "ticks": ""
            },
            "colorscale": [
             [
              0,
              "#0d0887"
             ],
             [
              0.1111111111111111,
              "#46039f"
             ],
             [
              0.2222222222222222,
              "#7201a8"
             ],
             [
              0.3333333333333333,
              "#9c179e"
             ],
             [
              0.4444444444444444,
              "#bd3786"
             ],
             [
              0.5555555555555556,
              "#d8576b"
             ],
             [
              0.6666666666666666,
              "#ed7953"
             ],
             [
              0.7777777777777778,
              "#fb9f3a"
             ],
             [
              0.8888888888888888,
              "#fdca26"
             ],
             [
              1,
              "#f0f921"
             ]
            ],
            "type": "heatmap"
           }
          ],
          "heatmapgl": [
           {
            "colorbar": {
             "outlinewidth": 0,
             "ticks": ""
            },
            "colorscale": [
             [
              0,
              "#0d0887"
             ],
             [
              0.1111111111111111,
              "#46039f"
             ],
             [
              0.2222222222222222,
              "#7201a8"
             ],
             [
              0.3333333333333333,
              "#9c179e"
             ],
             [
              0.4444444444444444,
              "#bd3786"
             ],
             [
              0.5555555555555556,
              "#d8576b"
             ],
             [
              0.6666666666666666,
              "#ed7953"
             ],
             [
              0.7777777777777778,
              "#fb9f3a"
             ],
             [
              0.8888888888888888,
              "#fdca26"
             ],
             [
              1,
              "#f0f921"
             ]
            ],
            "type": "heatmapgl"
           }
          ],
          "histogram": [
           {
            "marker": {
             "pattern": {
              "fillmode": "overlay",
              "size": 10,
              "solidity": 0.2
             }
            },
            "type": "histogram"
           }
          ],
          "histogram2d": [
           {
            "colorbar": {
             "outlinewidth": 0,
             "ticks": ""
            },
            "colorscale": [
             [
              0,
              "#0d0887"
             ],
             [
              0.1111111111111111,
              "#46039f"
             ],
             [
              0.2222222222222222,
              "#7201a8"
             ],
             [
              0.3333333333333333,
              "#9c179e"
             ],
             [
              0.4444444444444444,
              "#bd3786"
             ],
             [
              0.5555555555555556,
              "#d8576b"
             ],
             [
              0.6666666666666666,
              "#ed7953"
             ],
             [
              0.7777777777777778,
              "#fb9f3a"
             ],
             [
              0.8888888888888888,
              "#fdca26"
             ],
             [
              1,
              "#f0f921"
             ]
            ],
            "type": "histogram2d"
           }
          ],
          "histogram2dcontour": [
           {
            "colorbar": {
             "outlinewidth": 0,
             "ticks": ""
            },
            "colorscale": [
             [
              0,
              "#0d0887"
             ],
             [
              0.1111111111111111,
              "#46039f"
             ],
             [
              0.2222222222222222,
              "#7201a8"
             ],
             [
              0.3333333333333333,
              "#9c179e"
             ],
             [
              0.4444444444444444,
              "#bd3786"
             ],
             [
              0.5555555555555556,
              "#d8576b"
             ],
             [
              0.6666666666666666,
              "#ed7953"
             ],
             [
              0.7777777777777778,
              "#fb9f3a"
             ],
             [
              0.8888888888888888,
              "#fdca26"
             ],
             [
              1,
              "#f0f921"
             ]
            ],
            "type": "histogram2dcontour"
           }
          ],
          "mesh3d": [
           {
            "colorbar": {
             "outlinewidth": 0,
             "ticks": ""
            },
            "type": "mesh3d"
           }
          ],
          "parcoords": [
           {
            "line": {
             "colorbar": {
              "outlinewidth": 0,
              "ticks": ""
             }
            },
            "type": "parcoords"
           }
          ],
          "pie": [
           {
            "automargin": true,
            "type": "pie"
           }
          ],
          "scatter": [
           {
            "fillpattern": {
             "fillmode": "overlay",
             "size": 10,
             "solidity": 0.2
            },
            "type": "scatter"
           }
          ],
          "scatter3d": [
           {
            "line": {
             "colorbar": {
              "outlinewidth": 0,
              "ticks": ""
             }
            },
            "marker": {
             "colorbar": {
              "outlinewidth": 0,
              "ticks": ""
             }
            },
            "type": "scatter3d"
           }
          ],
          "scattercarpet": [
           {
            "marker": {
             "colorbar": {
              "outlinewidth": 0,
              "ticks": ""
             }
            },
            "type": "scattercarpet"
           }
          ],
          "scattergeo": [
           {
            "marker": {
             "colorbar": {
              "outlinewidth": 0,
              "ticks": ""
             }
            },
            "type": "scattergeo"
           }
          ],
          "scattergl": [
           {
            "marker": {
             "colorbar": {
              "outlinewidth": 0,
              "ticks": ""
             }
            },
            "type": "scattergl"
           }
          ],
          "scattermapbox": [
           {
            "marker": {
             "colorbar": {
              "outlinewidth": 0,
              "ticks": ""
             }
            },
            "type": "scattermapbox"
           }
          ],
          "scatterpolar": [
           {
            "marker": {
             "colorbar": {
              "outlinewidth": 0,
              "ticks": ""
             }
            },
            "type": "scatterpolar"
           }
          ],
          "scatterpolargl": [
           {
            "marker": {
             "colorbar": {
              "outlinewidth": 0,
              "ticks": ""
             }
            },
            "type": "scatterpolargl"
           }
          ],
          "scatterternary": [
           {
            "marker": {
             "colorbar": {
              "outlinewidth": 0,
              "ticks": ""
             }
            },
            "type": "scatterternary"
           }
          ],
          "surface": [
           {
            "colorbar": {
             "outlinewidth": 0,
             "ticks": ""
            },
            "colorscale": [
             [
              0,
              "#0d0887"
             ],
             [
              0.1111111111111111,
              "#46039f"
             ],
             [
              0.2222222222222222,
              "#7201a8"
             ],
             [
              0.3333333333333333,
              "#9c179e"
             ],
             [
              0.4444444444444444,
              "#bd3786"
             ],
             [
              0.5555555555555556,
              "#d8576b"
             ],
             [
              0.6666666666666666,
              "#ed7953"
             ],
             [
              0.7777777777777778,
              "#fb9f3a"
             ],
             [
              0.8888888888888888,
              "#fdca26"
             ],
             [
              1,
              "#f0f921"
             ]
            ],
            "type": "surface"
           }
          ],
          "table": [
           {
            "cells": {
             "fill": {
              "color": "#EBF0F8"
             },
             "line": {
              "color": "white"
             }
            },
            "header": {
             "fill": {
              "color": "#C8D4E3"
             },
             "line": {
              "color": "white"
             }
            },
            "type": "table"
           }
          ]
         },
         "layout": {
          "annotationdefaults": {
           "arrowcolor": "#2a3f5f",
           "arrowhead": 0,
           "arrowwidth": 1
          },
          "autotypenumbers": "strict",
          "coloraxis": {
           "colorbar": {
            "outlinewidth": 0,
            "ticks": ""
           }
          },
          "colorscale": {
           "diverging": [
            [
             0,
             "#8e0152"
            ],
            [
             0.1,
             "#c51b7d"
            ],
            [
             0.2,
             "#de77ae"
            ],
            [
             0.3,
             "#f1b6da"
            ],
            [
             0.4,
             "#fde0ef"
            ],
            [
             0.5,
             "#f7f7f7"
            ],
            [
             0.6,
             "#e6f5d0"
            ],
            [
             0.7,
             "#b8e186"
            ],
            [
             0.8,
             "#7fbc41"
            ],
            [
             0.9,
             "#4d9221"
            ],
            [
             1,
             "#276419"
            ]
           ],
           "sequential": [
            [
             0,
             "#0d0887"
            ],
            [
             0.1111111111111111,
             "#46039f"
            ],
            [
             0.2222222222222222,
             "#7201a8"
            ],
            [
             0.3333333333333333,
             "#9c179e"
            ],
            [
             0.4444444444444444,
             "#bd3786"
            ],
            [
             0.5555555555555556,
             "#d8576b"
            ],
            [
             0.6666666666666666,
             "#ed7953"
            ],
            [
             0.7777777777777778,
             "#fb9f3a"
            ],
            [
             0.8888888888888888,
             "#fdca26"
            ],
            [
             1,
             "#f0f921"
            ]
           ],
           "sequentialminus": [
            [
             0,
             "#0d0887"
            ],
            [
             0.1111111111111111,
             "#46039f"
            ],
            [
             0.2222222222222222,
             "#7201a8"
            ],
            [
             0.3333333333333333,
             "#9c179e"
            ],
            [
             0.4444444444444444,
             "#bd3786"
            ],
            [
             0.5555555555555556,
             "#d8576b"
            ],
            [
             0.6666666666666666,
             "#ed7953"
            ],
            [
             0.7777777777777778,
             "#fb9f3a"
            ],
            [
             0.8888888888888888,
             "#fdca26"
            ],
            [
             1,
             "#f0f921"
            ]
           ]
          },
          "colorway": [
           "#636efa",
           "#EF553B",
           "#00cc96",
           "#ab63fa",
           "#FFA15A",
           "#19d3f3",
           "#FF6692",
           "#B6E880",
           "#FF97FF",
           "#FECB52"
          ],
          "font": {
           "color": "#2a3f5f"
          },
          "geo": {
           "bgcolor": "white",
           "lakecolor": "white",
           "landcolor": "#E5ECF6",
           "showlakes": true,
           "showland": true,
           "subunitcolor": "white"
          },
          "hoverlabel": {
           "align": "left"
          },
          "hovermode": "closest",
          "mapbox": {
           "style": "light"
          },
          "paper_bgcolor": "white",
          "plot_bgcolor": "#E5ECF6",
          "polar": {
           "angularaxis": {
            "gridcolor": "white",
            "linecolor": "white",
            "ticks": ""
           },
           "bgcolor": "#E5ECF6",
           "radialaxis": {
            "gridcolor": "white",
            "linecolor": "white",
            "ticks": ""
           }
          },
          "scene": {
           "xaxis": {
            "backgroundcolor": "#E5ECF6",
            "gridcolor": "white",
            "gridwidth": 2,
            "linecolor": "white",
            "showbackground": true,
            "ticks": "",
            "zerolinecolor": "white"
           },
           "yaxis": {
            "backgroundcolor": "#E5ECF6",
            "gridcolor": "white",
            "gridwidth": 2,
            "linecolor": "white",
            "showbackground": true,
            "ticks": "",
            "zerolinecolor": "white"
           },
           "zaxis": {
            "backgroundcolor": "#E5ECF6",
            "gridcolor": "white",
            "gridwidth": 2,
            "linecolor": "white",
            "showbackground": true,
            "ticks": "",
            "zerolinecolor": "white"
           }
          },
          "shapedefaults": {
           "line": {
            "color": "#2a3f5f"
           }
          },
          "ternary": {
           "aaxis": {
            "gridcolor": "white",
            "linecolor": "white",
            "ticks": ""
           },
           "baxis": {
            "gridcolor": "white",
            "linecolor": "white",
            "ticks": ""
           },
           "bgcolor": "#E5ECF6",
           "caxis": {
            "gridcolor": "white",
            "linecolor": "white",
            "ticks": ""
           }
          },
          "title": {
           "x": 0.05
          },
          "xaxis": {
           "automargin": true,
           "gridcolor": "white",
           "linecolor": "white",
           "ticks": "",
           "title": {
            "standoff": 15
           },
           "zerolinecolor": "white",
           "zerolinewidth": 2
          },
          "yaxis": {
           "automargin": true,
           "gridcolor": "white",
           "linecolor": "white",
           "ticks": "",
           "title": {
            "standoff": 15
           },
           "zerolinecolor": "white",
           "zerolinewidth": 2
          }
         }
        },
        "title": {
         "text": "Classification accurency",
         "x": 0.5
        },
        "xaxis": {
         "anchor": "y",
         "domain": [
          0,
          1
         ],
         "title": {
          "text": "Classes"
         }
        },
        "yaxis": {
         "anchor": "x",
         "domain": [
          0,
          1
         ],
         "title": {
          "text": "Pixel count"
         }
        }
       }
      }
     },
     "metadata": {},
     "output_type": "display_data"
    }
   ],
   "source": [
    "hist"
   ]
  },
  {
   "cell_type": "code",
   "execution_count": 13,
   "id": "1b2b3f50",
   "metadata": {
    "ExecuteTime": {
     "end_time": "2024-04-30T12:02:07.537586Z",
     "start_time": "2024-04-30T12:02:07.186271Z"
    }
   },
   "outputs": [
    {
     "data": {
      "text/html": [
       "\n",
       "            <style>\n",
       "                .geemap-dark {\n",
       "                    --jp-widgets-color: white;\n",
       "                    --jp-widgets-label-color: white;\n",
       "                    --jp-ui-font-color1: white;\n",
       "                    --jp-layout-color2: #454545;\n",
       "                    background-color: #383838;\n",
       "                }\n",
       "\n",
       "                .geemap-dark .jupyter-button {\n",
       "                    --jp-layout-color3: #383838;\n",
       "                }\n",
       "\n",
       "                .geemap-colab {\n",
       "                    background-color: var(--colab-primary-surface-color, white);\n",
       "                }\n",
       "\n",
       "                .geemap-colab .jupyter-button {\n",
       "                    --jp-layout-color3: var(--colab-primary-surface-color, white);\n",
       "                }\n",
       "            </style>\n",
       "            "
      ],
      "text/plain": [
       "<IPython.core.display.HTML object>"
      ]
     },
     "metadata": {},
     "output_type": "display_data"
    },
    {
     "data": {
      "application/vnd.jupyter.widget-view+json": {
       "model_id": "460423c704434135928378d645323ed7",
       "version_major": 2,
       "version_minor": 0
      },
      "text/plain": [
       "Map(center=[52.68, 18.28], controls=(WidgetControl(options=['position', 'transparent_bg'], widget=SearchDataGU…"
      ]
     },
     "execution_count": 13,
     "metadata": {},
     "output_type": "execute_result"
    }
   ],
   "source": [
    "classify_crop([52.68, 18.28], 'Sugar beet', 'b3573b')"
   ]
  },
  {
   "cell_type": "code",
   "execution_count": 14,
   "id": "581f03ba",
   "metadata": {},
   "outputs": [
    {
     "data": {
      "text/html": [
       "\n",
       "            <style>\n",
       "                .geemap-dark {\n",
       "                    --jp-widgets-color: white;\n",
       "                    --jp-widgets-label-color: white;\n",
       "                    --jp-ui-font-color1: white;\n",
       "                    --jp-layout-color2: #454545;\n",
       "                    background-color: #383838;\n",
       "                }\n",
       "\n",
       "                .geemap-dark .jupyter-button {\n",
       "                    --jp-layout-color3: #383838;\n",
       "                }\n",
       "\n",
       "                .geemap-colab {\n",
       "                    background-color: var(--colab-primary-surface-color, white);\n",
       "                }\n",
       "\n",
       "                .geemap-colab .jupyter-button {\n",
       "                    --jp-layout-color3: var(--colab-primary-surface-color, white);\n",
       "                }\n",
       "            </style>\n",
       "            "
      ],
      "text/plain": [
       "<IPython.core.display.HTML object>"
      ]
     },
     "metadata": {},
     "output_type": "display_data"
    },
    {
     "data": {
      "application/vnd.jupyter.widget-view+json": {
       "model_id": "ccf317d101394bc195ba374719033dd4",
       "version_major": 2,
       "version_minor": 0
      },
      "text/plain": [
       "Map(center=[52.68, 18.28], controls=(WidgetControl(options=['position', 'transparent_bg'], widget=SearchDataGU…"
      ]
     },
     "execution_count": 14,
     "metadata": {},
     "output_type": "execute_result"
    }
   ],
   "source": [
    "crop_index([52.68, 18.28], '445d07')"
   ]
  }
 ],
 "metadata": {
  "kernelspec": {
   "display_name": "myenv",
   "language": "python",
   "name": "python3"
  },
  "language_info": {
   "codemirror_mode": {
    "name": "ipython",
    "version": 3
   },
   "file_extension": ".py",
   "mimetype": "text/x-python",
   "name": "python",
   "nbconvert_exporter": "python",
   "pygments_lexer": "ipython3",
   "version": "3.10.11"
  }
 },
 "nbformat": 4,
 "nbformat_minor": 5
}
